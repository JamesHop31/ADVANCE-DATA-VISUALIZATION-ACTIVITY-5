{
  "nbformat": 4,
  "nbformat_minor": 0,
  "metadata": {
    "colab": {
      "provenance": [],
      "authorship_tag": "ABX9TyOA0+9Ac7vyUY/Kq0U/a/Vt",
      "include_colab_link": true
    },
    "kernelspec": {
      "name": "python3",
      "display_name": "Python 3"
    },
    "language_info": {
      "name": "python"
    }
  },
  "cells": [
    {
      "cell_type": "markdown",
      "metadata": {
        "id": "view-in-github",
        "colab_type": "text"
      },
      "source": [
        "<a href=\"https://colab.research.google.com/github/JamesHop31/ADVANCE-DATA-VISUALIZATION-ACTIVITY-5/blob/main/ADVANCE_DATA_VISUALIZATION_LAB_5_ipynbynb.ipynb\" target=\"_parent\"><img src=\"https://colab.research.google.com/assets/colab-badge.svg\" alt=\"Open In Colab\"/></a>"
      ]
    },
    {
      "cell_type": "code",
      "execution_count": null,
      "metadata": {
        "colab": {
          "base_uri": "https://localhost:8080/"
        },
        "id": "niQNvOWvh1NU",
        "outputId": "a5a309a3-1a07-469c-f8f7-faf4eff53e42"
      },
      "outputs": [
        {
          "output_type": "stream",
          "name": "stdout",
          "text": [
            "Enter your choice:1\n",
            "Enter two numbers: \n",
            "2\n",
            "5\n",
            "Result =  7.0\n"
          ]
        }
      ],
      "source": [
        "choice = int(input(\"Enter your choice:\"))\n",
        "#User's choice [1,2,3,4] if (choice>=1 adn choice <=4):\n",
        "print(\"Enter two numbers: \")\n",
        "num1 = float(input())\n",
        "num2 = float(input())\n",
        "\n",
        "if choice == 1:\n",
        "  res =num1 + num2\n",
        "  print(\"Result = \", res)\n",
        "\n",
        "elif  choice == 2:\n",
        "  res =num1 - num2\n",
        "  print(\"Result = \", res)\n",
        "\n",
        "elif choice == 3:\n",
        "  res =num1 * num2\n",
        "  print(\"Result = \", res)  \n",
        "\n",
        "elif choice == 4:\n",
        "  res =num1 / num2\n",
        "  print(\"Result = \", res)  \n",
        "\n",
        "elif choice == 5:\n",
        "  exit()\n",
        "else:\n",
        "    print(\"Wrong input..!!\")"
      ]
    }
  ]
}